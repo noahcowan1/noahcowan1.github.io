{
  "cells": [
    {
      "cell_type": "markdown",
      "metadata": {
        "id": "view-in-github",
        "colab_type": "text"
      },
      "source": [
        "<a href=\"https://colab.research.google.com/github/noahcowan1/noahcowan1.github.io/blob/master/Cowan_hw0.ipynb\" target=\"_parent\"><img src=\"https://colab.research.google.com/assets/colab-badge.svg\" alt=\"Open In Colab\"/></a>"
      ]
    },
    {
      "cell_type": "markdown",
      "metadata": {
        "id": "f2LuWOislHde"
      },
      "source": [
        "# HW0: PyTorch Primer\n",
        "\n",
        "STATS305B, Stanford University, Winter 2024\n",
        "\n",
        "**Your name:**\n",
        "\n",
        "**Collaborators:**\n",
        "\n",
        "**Hours spent:**\n",
        "\n",
        "Please let us know how many hours in total you spent on this assignment so we can calibrate for future assignments. Your feedback is always welcome!\n",
        "\n",
        "-----\n",
        "\n",
        "We'll use Python and [PyTorch](https://pytorch.org/) for the assignments in this course. This lab is to help you get up to speed. It will introduce:\n",
        "- **Tensors**: PyTorch's equivalent of NumPy arrays, but with more bells and whistles for running on GPUs and supporting automatic differentiation.\n",
        "- **Broadcasting and Fancy Indexing**: If you're coming from Matlab or NumPy, you probably know that you can avoid costly for-loops by broadcasting computation over dimensions of an array (here, tensor) and using fancy indexing tricks.\n",
        "- **Distributions**: PyTorch has an excellent library of distributions for sampling, evaluating log probabilities, and much more.\n"
      ]
    },
    {
      "cell_type": "code",
      "execution_count": 2,
      "metadata": {
        "id": "wgK10D1dlHdg"
      },
      "outputs": [],
      "source": [
        "import torch\n",
        "import torch.distributions as dist\n",
        "import matplotlib.pyplot as plt\n",
        "\n",
        "\n",
        "torch.set_printoptions(precision=3, threshold=None, edgeitems=None,\n",
        "                       linewidth=None, profile=None, sci_mode=None)\n",
        "def prettyPrintAnswer(q, x):\n",
        "    print(f\"Problem {q} Tensor is: \\n {x} \\n\")\n",
        "    return None"
      ]
    },
    {
      "cell_type": "markdown",
      "metadata": {
        "id": "AbFmp6aBlHdg"
      },
      "source": [
        "## 1. Constructing Tensors\n",
        "\n",
        "Tensors are PyTorch's equivalent of NumPy arrays. The PyTorch documentation already has a [great tutorial](https://pytorch.org/tutorials/beginner/basics/tensorqs_tutorial.html) on tensors. Rather than recreate the wheel, please start by reading that.\n",
        "\n",
        "Once you've read through that, try using torch functions like `arange`, `reshape`, etc. to construct the following tensors."
      ]
    },
    {
      "cell_type": "markdown",
      "metadata": {
        "id": "HIXtZ1USlHdg"
      },
      "source": [
        "### Problem 1.1\n",
        "\n",
        "Construct the following tensor:\n",
        "\n",
        "```\n",
        "tensor([[0, 1, 2],\n",
        "        [3, 4, 5],\n",
        "        [6, 7, 8]])\n",
        "```\n",
        "\n",
        "_Note: For this problems and the ones below, don't literally construct the tensor from the specified list. Use torch functions._\n",
        "\n",
        "---"
      ]
    },
    {
      "cell_type": "code",
      "execution_count": 3,
      "metadata": {
        "id": "AkDSn-kJlHdh",
        "colab": {
          "base_uri": "https://localhost:8080/",
          "height": 0
        },
        "outputId": "08dac854-ef32-42ec-e7aa-06a2d9b3308b"
      },
      "outputs": [
        {
          "output_type": "stream",
          "name": "stdout",
          "text": [
            "Problem 1.1 Tensor is: \n",
            " tensor([[0, 1, 2],\n",
            "        [3, 4, 5],\n",
            "        [6, 7, 8]]) \n",
            "\n"
          ]
        }
      ],
      "source": [
        "x_1_1 = torch.arange(9).reshape((3,3))\n",
        "prettyPrintAnswer(\"1.1\", x_1_1)"
      ]
    },
    {
      "cell_type": "markdown",
      "metadata": {
        "id": "VkYZGlOIlHdh"
      },
      "source": [
        "### Problem 1.2\n",
        "\n",
        "Construct the following tensor:\n",
        "\n",
        "```\n",
        "tensor([[0, 3, 6],\n",
        "        [1, 4, 7],\n",
        "        [2, 5, 8]])\n",
        "```\n",
        "\n",
        "---"
      ]
    },
    {
      "cell_type": "code",
      "execution_count": 4,
      "metadata": {
        "id": "atnlEcr_lHdh",
        "colab": {
          "base_uri": "https://localhost:8080/",
          "height": 0
        },
        "outputId": "f15a9284-b6ef-48d7-91b1-cc40fc24cba0"
      },
      "outputs": [
        {
          "output_type": "stream",
          "name": "stdout",
          "text": [
            "Problem 1.2 Tensor is: \n",
            " tensor([[0, 3, 6],\n",
            "        [1, 4, 7],\n",
            "        [2, 5, 8]]) \n",
            "\n"
          ]
        }
      ],
      "source": [
        "prettyPrintAnswer(\"1.2\", x_1_1.t())"
      ]
    },
    {
      "cell_type": "markdown",
      "metadata": {
        "id": "AuMEY4v2lHdh"
      },
      "source": [
        "### Problem 1.3\n",
        "\n",
        "Construct the following tensor:\n",
        "\n",
        "```\n",
        "tensor([0, 1, 2, 3, 4, 0, 1, 2, 3, 4, 0, 1, 2, 3, 4])\n",
        "```\n",
        "\n",
        "_Note: Here the sequence is repeated 3 times. Does your code support arbitrary numbers of repeats?_\n",
        "\n",
        "---"
      ]
    },
    {
      "cell_type": "code",
      "execution_count": 5,
      "metadata": {
        "id": "qrQQec3klHdi",
        "colab": {
          "base_uri": "https://localhost:8080/",
          "height": 0
        },
        "outputId": "f88034c3-fdc3-4dd8-fda4-f5c738cbbc66"
      },
      "outputs": [
        {
          "output_type": "stream",
          "name": "stdout",
          "text": [
            "Problem 1.3 Tensor is: \n",
            " tensor([0, 1, 2, 3, 4, 0, 1, 2, 3, 4, 0, 1, 2, 3, 4]) \n",
            "\n"
          ]
        }
      ],
      "source": [
        "repeats = 3\n",
        "# note that the desired tensor is (,15) not (1,15) so no second axis specified\n",
        "x_1_3 = torch.arange(5).repeat(repeats)\n",
        "prettyPrintAnswer(\"1.3\", x_1_3)"
      ]
    },
    {
      "cell_type": "markdown",
      "metadata": {
        "id": "3HmYerFPlHdi"
      },
      "source": [
        "### Problem 1.4\n",
        "\n",
        "Construct the following tensor:\n",
        "\n",
        "```\n",
        "tensor([[0, 1, 2, 3, 4],\n",
        "        [0, 1, 2, 3, 4],\n",
        "        [0, 1, 2, 3, 4]])\n",
        "```\n",
        "\n",
        "---"
      ]
    },
    {
      "cell_type": "code",
      "execution_count": 6,
      "metadata": {
        "id": "EyeQxMQslHdi",
        "colab": {
          "base_uri": "https://localhost:8080/",
          "height": 0
        },
        "outputId": "ef1b4806-8dbc-4bdc-c0ce-870da2785da1"
      },
      "outputs": [
        {
          "output_type": "stream",
          "name": "stdout",
          "text": [
            "Problem 1.4 Tensor is: \n",
            " tensor([[0, 1, 2, 3, 4],\n",
            "        [0, 1, 2, 3, 4],\n",
            "        [0, 1, 2, 3, 4]]) \n",
            "\n"
          ]
        }
      ],
      "source": [
        "x_1_4 = torch.arange(5).repeat(repeats, 1)\n",
        "prettyPrintAnswer(\"1.4\", x_1_4)"
      ]
    },
    {
      "cell_type": "markdown",
      "metadata": {
        "id": "kjn57o76lHdi"
      },
      "source": [
        "### Problem 1.5\n",
        "\n",
        "Construct the following tensor:\n",
        "\n",
        "```\n",
        "tensor([[ 1., -2.,  0.,  0.],\n",
        "        [-2.,  1., -2.,  0.],\n",
        "        [ 0., -2.,  1., -2.],\n",
        "        [ 0.,  0., -2.,  1.]])\n",
        "```\n",
        "\n",
        "---"
      ]
    },
    {
      "cell_type": "code",
      "execution_count": 7,
      "metadata": {
        "id": "kNVO1_phlHdi",
        "colab": {
          "base_uri": "https://localhost:8080/",
          "height": 0
        },
        "outputId": "7654d4a3-f82c-4590-da17-03e39039e6e5"
      },
      "outputs": [
        {
          "output_type": "stream",
          "name": "stdout",
          "text": [
            "Problem 1.5 Tensor is: \n",
            " tensor([[ 1., -2.,  0.,  0.],\n",
            "        [-2.,  1., -2.,  0.],\n",
            "        [ 0., -2.,  1., -2.],\n",
            "        [ 0.,  0., -2.,  1.]]) \n",
            "\n"
          ]
        }
      ],
      "source": [
        "off_diag = torch.diag(-2*torch.ones(3), 1)\n",
        "x_1_5 = torch.diag(torch.ones(4)) + off_diag + off_diag.t()\n",
        "prettyPrintAnswer(\"1.5\", x_1_5)"
      ]
    },
    {
      "cell_type": "markdown",
      "metadata": {
        "id": "rY92gTM8lHdi"
      },
      "source": [
        "### Problem 1.6\n",
        "\n",
        "Construct the following tensor:\n",
        "\n",
        "```\n",
        "tensor([[[[0, 1, 2]]]])\n",
        "```\n",
        "\n",
        "---"
      ]
    },
    {
      "cell_type": "code",
      "execution_count": 8,
      "metadata": {
        "id": "o0IUohU4lHdi",
        "colab": {
          "base_uri": "https://localhost:8080/",
          "height": 0
        },
        "outputId": "cf4f08b0-f03d-412b-ba2e-361f2d7c00fe"
      },
      "outputs": [
        {
          "output_type": "stream",
          "name": "stdout",
          "text": [
            "Problem 1.6 Tensor is: \n",
            " tensor([[[[0, 1, 2]]]]) \n",
            "\n"
          ]
        }
      ],
      "source": [
        "x_1_6 = torch.arange(3).reshape(1, 1, 1, 3)\n",
        "prettyPrintAnswer(\"1.6\", x_1_6)"
      ]
    },
    {
      "cell_type": "markdown",
      "metadata": {
        "id": "fFAV3VC_lHdi"
      },
      "source": [
        "## 2. Broadcasting and Fancy Indexing\n",
        "\n",
        "Your life will be much easier and your code will be much faster once you get the hang of broadcasting and indexing. Start by reading the  [PyTorch documentation](https://pytorch.org/docs/stable/notes/broadcasting.html)."
      ]
    },
    {
      "cell_type": "markdown",
      "metadata": {
        "id": "R9u8vbgNlHdi"
      },
      "source": [
        "### Problem 2.1\n",
        "\n",
        "Construct a tensor `X` where `X[i,j] = i + j` by broadcasting a sum of two 1-dimensional tensors.\n",
        "\n",
        "For example, broadcast a sum to construct the following tensor,\n",
        "\n",
        "```\n",
        "tensor([[0, 1, 2],\n",
        "        [1, 2, 3],\n",
        "        [2, 3, 4],\n",
        "        [3, 4, 5]])\n",
        "```        \n",
        "\n",
        "---"
      ]
    },
    {
      "cell_type": "code",
      "execution_count": 9,
      "metadata": {
        "id": "IulV8PmNlHdi",
        "colab": {
          "base_uri": "https://localhost:8080/",
          "height": 0
        },
        "outputId": "1114f493-807e-4fbe-9aae-f40c285d05d7"
      },
      "outputs": [
        {
          "output_type": "stream",
          "name": "stdout",
          "text": [
            "Problem 2.1 Tensor is: \n",
            " tensor([[0, 1, 2],\n",
            "        [1, 2, 3],\n",
            "        [2, 3, 4],\n",
            "        [3, 4, 5]]) \n",
            "\n"
          ]
        }
      ],
      "source": [
        "# want to make one tensor be row and one column\n",
        "numrows = 4\n",
        "numcols = 3\n",
        "# This is a column (numrows x 1) tensor\n",
        "row_ind = torch.arange(numrows).unsqueeze(1)\n",
        "# This is a row (1 x numcols) tensor (unsqueeze isnt needed but I like it)\n",
        "col_ind = torch.arange(numcols).unsqueeze(0)\n",
        "x_2_1 = row_ind + col_ind # broadcasts each to (numrows x numcols)\n",
        "prettyPrintAnswer(\"2.1\", x_2_1)"
      ]
    },
    {
      "cell_type": "markdown",
      "metadata": {
        "id": "VaNBlKoclHdi"
      },
      "source": [
        "### Problem 2.2\n",
        "\n",
        "Compute a distance matrix `D` where `D[i,j]` is the Euclidean distance between `X[i]` and `X[j]`, with\n",
        "\n",
        "```\n",
        "X = torch.arange(10, dtype=float).reshape(5, 2)\n",
        "```\n",
        "\n",
        "Your answer should be,\n",
        "\n",
        "```\n",
        "tensor([[ 0.0000,  2.8284,  5.6569,  8.4853, 11.3137],\n",
        "        [ 2.8284,  0.0000,  2.8284,  5.6569,  8.4853],\n",
        "        [ 5.6569,  2.8284,  0.0000,  2.8284,  5.6569],\n",
        "        [ 8.4853,  5.6569,  2.8284,  0.0000,  2.8284],\n",
        "        [11.3137,  8.4853,  5.6569,  2.8284,  0.0000]])\n",
        "```        \n",
        "\n",
        "---"
      ]
    },
    {
      "cell_type": "code",
      "execution_count": 10,
      "metadata": {
        "id": "4DxNCrailHdi",
        "colab": {
          "base_uri": "https://localhost:8080/",
          "height": 0
        },
        "outputId": "7fde2125-3724-4893-ce16-0f397b1d281c"
      },
      "outputs": [
        {
          "output_type": "stream",
          "name": "stdout",
          "text": [
            "Problem 2.2 Tensor is: \n",
            " tensor([[ 0.000,  2.828,  5.657,  8.485, 11.314],\n",
            "        [ 2.828,  0.000,  2.828,  5.657,  8.485],\n",
            "        [ 5.657,  2.828,  0.000,  2.828,  5.657],\n",
            "        [ 8.485,  5.657,  2.828,  0.000,  2.828],\n",
            "        [11.314,  8.485,  5.657,  2.828,  0.000]], dtype=torch.float64) \n",
            "\n"
          ]
        }
      ],
      "source": [
        "X = torch.arange(10, dtype=float).reshape(5, 2)\n",
        "# broadcasts to (5, 1, 2) - (1, 5, 2) so each vector (the 2) gets copied\n",
        "diffs = X.unsqueeze(1) - X\n",
        "# square all the diffs, sum those squares (so sum along the 3rd axis), sqrt\n",
        "dists = diffs.square().sum(axis=2).sqrt()\n",
        "prettyPrintAnswer(\"2.2\", dists)"
      ]
    },
    {
      "cell_type": "markdown",
      "metadata": {
        "id": "rlPKXPyLlHdj"
      },
      "source": [
        "### Problem 2.3\n",
        "\n",
        "Extract the submatrix of rows `[2,3]` and columns `[0,1,4]` of the tensor,\n",
        "```\n",
        "A = torch.arange(25).reshape(5, 5)\n",
        "```\n",
        "\n",
        "Your answer should be,\n",
        "```\n",
        "tensor([[10, 11, 14],\n",
        "        [15, 16, 19]])\n",
        "```\n",
        "\n",
        "---"
      ]
    },
    {
      "cell_type": "code",
      "execution_count": 11,
      "metadata": {
        "id": "WZhOgQlblHdj",
        "colab": {
          "base_uri": "https://localhost:8080/",
          "height": 0
        },
        "outputId": "b4c07c3c-f1b8-4aa0-81f3-9091076a2fa9"
      },
      "outputs": [
        {
          "output_type": "stream",
          "name": "stdout",
          "text": [
            "Problem 2.3 Tensor is: \n",
            " tensor([[10, 11, 14],\n",
            "        [15, 16, 19]]) \n",
            "\n"
          ]
        }
      ],
      "source": [
        "A = torch.arange(25).reshape(5, 5)\n",
        "rows = [2, 3]\n",
        "columns = [0, 1,4]\n",
        "# get all the rows we want, slice those rows down to just the columns we want.\n",
        "x_2_3 = A[rows, :][:, columns]\n",
        "prettyPrintAnswer(\"2.3\", x_2_3)"
      ]
    },
    {
      "cell_type": "markdown",
      "metadata": {
        "id": "4SoFdLi6lHdj"
      },
      "source": [
        "### Problem 2.4\n",
        "\n",
        "Create a binary mask matrix `M` of the same shape as `A` where `M[i,j]` is True if and only if `A[i,j]` is divisible by 7. Let\n",
        "\n",
        "```\n",
        "A = torch.arange(25).reshape(5, 5)\n",
        "```\n",
        "\n",
        "Your answer should be\n",
        "\n",
        "```\n",
        "tensor([[ True, False, False, False, False],\n",
        "        [False, False,  True, False, False],\n",
        "        [False, False, False, False,  True],\n",
        "        [False, False, False, False, False],\n",
        "        [False,  True, False, False, False]])\n",
        "```\n",
        "\n",
        "---"
      ]
    },
    {
      "cell_type": "code",
      "execution_count": 12,
      "metadata": {
        "id": "WFGVn78xlHdj",
        "colab": {
          "base_uri": "https://localhost:8080/",
          "height": 0
        },
        "outputId": "7c99534b-6c87-47f3-806f-c8763bb5c84d"
      },
      "outputs": [
        {
          "output_type": "stream",
          "name": "stdout",
          "text": [
            "Problem 2.4 Tensor is: \n",
            " tensor([[ True, False, False, False, False],\n",
            "        [False, False,  True, False, False],\n",
            "        [False, False, False, False,  True],\n",
            "        [False, False, False, False, False],\n",
            "        [False,  True, False, False, False]]) \n",
            "\n"
          ]
        }
      ],
      "source": [
        "A = torch.arange(25).reshape(5, 5)\n",
        "x_2_4 = A % 7 == 0\n",
        "prettyPrintAnswer(\"2.4\", x_2_4)"
      ]
    },
    {
      "cell_type": "markdown",
      "metadata": {
        "id": "QcLI2riXlHdj"
      },
      "source": [
        "### Problem 2.5\n",
        "\n",
        "Add one to the entries in `A` that are divisible by 7. After updating in place, `A` should be,\n",
        "\n",
        "```\n",
        "tensor([[ 1,  1,  2,  3,  4],\n",
        "        [ 5,  6,  8,  8,  9],\n",
        "        [10, 11, 12, 13, 15],\n",
        "        [15, 16, 17, 18, 19],\n",
        "        [20, 22, 22, 23, 24]])\n",
        "```\n",
        "\n",
        "---"
      ]
    },
    {
      "cell_type": "code",
      "execution_count": 13,
      "metadata": {
        "id": "VgyrcFnelHdj",
        "colab": {
          "base_uri": "https://localhost:8080/",
          "height": 0
        },
        "outputId": "f3081c1f-85a2-42b7-f9e8-7825e252fe68"
      },
      "outputs": [
        {
          "output_type": "stream",
          "name": "stdout",
          "text": [
            "Problem 2.5 Tensor is: \n",
            " tensor([[ 1,  1,  2,  3,  4],\n",
            "        [ 5,  6,  8,  8,  9],\n",
            "        [10, 11, 12, 13, 15],\n",
            "        [15, 16, 17, 18, 19],\n",
            "        [20, 22, 22, 23, 24]]) \n",
            "\n"
          ]
        }
      ],
      "source": [
        "x_2_5 = A + x_2_4\n",
        "prettyPrintAnswer(\"2.5\", x_2_5)"
      ]
    },
    {
      "cell_type": "markdown",
      "metadata": {
        "id": "tngx_Bv3lHdj"
      },
      "source": [
        "## 3. Distributions\n",
        "\n",
        "PyTorch has an excellent library of distributions in `torch.distributions`. Read the docs [here](https://pytorch.org/docs/stable/distributions.html).\n",
        "\n",
        "We will use these distribution objects to construct and fit a Poisson mixture model."
      ]
    },
    {
      "cell_type": "markdown",
      "metadata": {
        "id": "PVoQ94HolHdj"
      },
      "source": [
        "### Problem 3.1\n",
        "\n",
        "Draw 50 samples from a Poisson distribution with rate 10.\n",
        "\n",
        "---"
      ]
    },
    {
      "cell_type": "code",
      "execution_count": 14,
      "metadata": {
        "id": "qcuVf1jWlHdj",
        "colab": {
          "base_uri": "https://localhost:8080/",
          "height": 0
        },
        "outputId": "4fc3cc90-e415-4d82-9895-e1242d9c264e"
      },
      "outputs": [
        {
          "output_type": "stream",
          "name": "stdout",
          "text": [
            "Problem 3.1 Tensor is: \n",
            " tensor([[11.,  8., 15., 12.,  7.],\n",
            "        [13., 17., 12.,  9., 10.],\n",
            "        [13.,  9., 13.,  5.,  7.],\n",
            "        [ 9.,  8.,  8.,  8.,  8.],\n",
            "        [13.,  7., 13.,  8., 12.],\n",
            "        [ 4., 12., 15., 11.,  9.],\n",
            "        [ 9.,  9.,  7.,  5.,  8.],\n",
            "        [ 7.,  5., 10.,  8.,  9.],\n",
            "        [ 9.,  8.,  9., 14.,  8.],\n",
            "        [ 8., 12., 13., 10., 16.]]) \n",
            "\n"
          ]
        }
      ],
      "source": [
        "x_3_1 = dist.Poisson(10).sample((10, 5))\n",
        "prettyPrintAnswer(\"3.1\", x_3_1)"
      ]
    },
    {
      "cell_type": "markdown",
      "metadata": {
        "id": "ETf-galklHdj"
      },
      "source": [
        "### Problem 3.2\n",
        "\n",
        "One of the awesome thing about PyTorch distributions is that they support broadcasting too.\n",
        "\n",
        "Construct a matrix `P` where `P[i,j]` equals $\\mathrm{Pois}(x=j; \\lambda=i)$ for $i=0,\\ldots,4$ and $j=0,\\ldots,4$.\n",
        "\n",
        "Your answer should be,\n",
        "```\n",
        "tensor([[1.0000, 0.0000, 0.0000, 0.0000, 0.0000],\n",
        "        [0.3679, 0.3679, 0.1839, 0.0613, 0.0153],\n",
        "        [0.1353, 0.2707, 0.2707, 0.1804, 0.0902],\n",
        "        [0.0498, 0.1494, 0.2240, 0.2240, 0.1680],\n",
        "        [0.0183, 0.0733, 0.1465, 0.1954, 0.1954]])\n",
        "```\n",
        "\n",
        "---"
      ]
    },
    {
      "cell_type": "code",
      "execution_count": 15,
      "metadata": {
        "id": "AmroSD-ulHdj",
        "colab": {
          "base_uri": "https://localhost:8080/",
          "height": 0
        },
        "outputId": "e1b92b8f-4f38-4128-ef66-c99b39dffc3c"
      },
      "outputs": [
        {
          "output_type": "stream",
          "name": "stdout",
          "text": [
            "torch.Size([5])\n",
            "Problem 3.2 Tensor is: \n",
            " tensor([[1.000, 0.000, 0.000, 0.000, 0.000],\n",
            "        [0.368, 0.368, 0.184, 0.061, 0.015],\n",
            "        [0.135, 0.271, 0.271, 0.180, 0.090],\n",
            "        [0.050, 0.149, 0.224, 0.224, 0.168],\n",
            "        [0.018, 0.073, 0.147, 0.195, 0.195]]) \n",
            "\n"
          ]
        }
      ],
      "source": [
        "i_max = 5\n",
        "j_max = 5\n",
        "rate = dist.Poisson(torch.arange(i_max).unsqueeze(1))\n",
        "val = torch.arange(j_max)\n",
        "print(val.size())\n",
        "P = rate.log_prob(val).exp()\n",
        "prettyPrintAnswer(\"3.2\", P)"
      ]
    },
    {
      "cell_type": "markdown",
      "metadata": {
        "id": "fDVVHezVlHdj"
      },
      "source": [
        "### Problem 3.3\n",
        "\n",
        "Evaluate the log probability of the points `[1.5, 3., 4.2]` under a gamma distribution with shape (aka concentration) 2.0 and inverse scale (aka rate) 1.5.\n",
        "\n",
        "Your answer should be,\n",
        "\n",
        "```\n",
        "tensor([-1.0336, -2.5905, -4.0540])\n",
        "```\n",
        "\n",
        "---"
      ]
    },
    {
      "cell_type": "code",
      "execution_count": 16,
      "metadata": {
        "id": "CKB4ca3nlHdj",
        "colab": {
          "base_uri": "https://localhost:8080/",
          "height": 0
        },
        "outputId": "ce418633-ff72-44a1-c4e9-1d5acfae1353"
      },
      "outputs": [
        {
          "output_type": "stream",
          "name": "stdout",
          "text": [
            "Problem 3.3 Tensor is: \n",
            " tensor([-1.034, -2.590, -4.054]) \n",
            "\n"
          ]
        }
      ],
      "source": [
        "desired_x = [1.5, 3., 4.2]\n",
        "x_3_3 = dist.Gamma(concentration=2.0, rate=1.5).log_prob(desired_x)\n",
        "prettyPrintAnswer(\"3.3\", x_3_3)"
      ]
    },
    {
      "cell_type": "markdown",
      "metadata": {
        "id": "zjppoA_SlHdj"
      },
      "source": [
        "### Problem 3.4\n",
        "\n",
        "Draw 1000 samples from a Poisson mixture model,\n",
        "\n",
        "$$\n",
        "\\begin{align*}\n",
        "p(x) &= \\frac{1}{2} \\mathrm{Pois}(10.0) + \\frac{1}{2} \\mathrm{Pois}(2.0)\n",
        "\\end{align*}\n",
        "$$\n",
        "\n",
        "Use `matplotlib.pyplot.hist` to plot a normalized histogram of the samples.\n",
        "\n",
        "---"
      ]
    },
    {
      "cell_type": "code",
      "execution_count": 17,
      "metadata": {
        "id": "fiyJDqMolHdj"
      },
      "outputs": [],
      "source": [
        "mixing_probs = torch.tensor([.5, .5])\n",
        "mixing_dist = dist.Categorical(mixing_probs)\n",
        "component_dists = dist.Poisson(torch.tensor([10., 2.]))\n",
        "model = dist.mixture_same_family.MixtureSameFamily(mixing_dist, component_dists)\n",
        "\n",
        "data = model.sample([1000])"
      ]
    },
    {
      "cell_type": "code",
      "source": [
        "plt.figure(figsize=(10, 6))\n",
        "plt.hist(data.numpy(), bins=20, density=True, alpha=0.6, color='#134b73')\n",
        "plt.title('Histogram of Samples from Poisson Mixture Model (10, 2, .5)')\n",
        "plt.xlabel('Sample Value')\n",
        "plt.ylabel('Normalized Frequency')\n",
        "plt.show()"
      ],
      "metadata": {
        "colab": {
          "base_uri": "https://localhost:8080/",
          "height": 564
        },
        "id": "tImNLIQlzTUH",
        "outputId": "aa629473-282b-4654-d919-bf854c139b76"
      },
      "execution_count": 18,
      "outputs": [
        {
          "output_type": "display_data",
          "data": {
            "text/plain": [
              "<Figure size 1000x600 with 1 Axes>"
            ],
            "image/png": "[encoded data removed]"
          },
          "metadata": {}
        }
      ]
    },
    {
      "cell_type": "markdown",
      "metadata": {
        "id": "HiatKD4LlHdj"
      },
      "source": [
        "## 4. PyTorch Distributions"
      ]
    },
    {
      "cell_type": "markdown",
      "metadata": {
        "id": "5jRVLyHZlHdj"
      },
      "source": [
        "### Problem 4.1\n",
        "\n",
        "Use `dist.Normal` to draw a batch of shape `(100, 4)` independent standard normal random variables."
      ]
    },
    {
      "cell_type": "code",
      "execution_count": 19,
      "metadata": {
        "id": "lW2GIKE6lHdj",
        "colab": {
          "base_uri": "https://localhost:8080/",
          "height": 0
        },
        "outputId": "e5b6e78f-a23c-48ef-fcb5-ab84ae784d38"
      },
      "outputs": [
        {
          "output_type": "stream",
          "name": "stdout",
          "text": [
            "Problem 4.1 Tensor is: \n",
            " tensor([[ 1.673,  0.018,  0.768, -1.386],\n",
            "        [ 1.135, -0.484, -0.092,  0.693],\n",
            "        [-0.577,  0.004,  0.660,  1.832],\n",
            "        [-0.094,  1.040,  0.696, -0.600],\n",
            "        [-0.526, -0.998, -0.266, -0.594],\n",
            "        [ 1.309, -0.903, -0.432, -0.059],\n",
            "        [ 0.855,  1.146, -0.992,  1.534],\n",
            "        [ 1.788, -0.585, -2.097,  1.334],\n",
            "        [ 0.259, -1.170,  0.024, -0.850],\n",
            "        [ 1.349,  0.031,  0.028,  0.873],\n",
            "        [ 1.149, -0.015, -0.031, -0.415],\n",
            "        [ 1.553, -2.570,  0.861,  1.915],\n",
            "        [-0.551,  0.734,  0.806, -0.612],\n",
            "        [-0.496, -0.217, -0.013,  2.288],\n",
            "        [-1.348,  0.387, -0.582, -0.050],\n",
            "        [-1.267,  1.786,  1.047,  0.924],\n",
            "        [-0.729,  0.077, -0.107,  0.629],\n",
            "        [ 0.037, -0.648,  0.267, -0.335],\n",
            "        [ 1.026, -1.410,  0.897, -1.271],\n",
            "        [-0.775,  0.485, -0.691, -0.267],\n",
            "        [-0.027,  0.181, -0.347,  0.322],\n",
            "        [ 1.524,  1.205,  0.473, -0.708],\n",
            "        [ 1.230, -0.142,  1.010,  0.478],\n",
            "        [-0.285, -0.371, -1.051, -2.478],\n",
            "        [ 0.369,  1.298, -2.618, -0.129],\n",
            "        [ 0.563, -1.365, -0.200, -0.709],\n",
            "        [-0.531, -1.985, -0.914,  0.389],\n",
            "        [ 0.598,  1.323, -0.057,  0.109],\n",
            "        [-0.307,  1.125, -0.687,  0.856],\n",
            "        [-0.298,  1.627, -0.652, -0.782],\n",
            "        [-0.322, -1.217, -0.672,  0.740],\n",
            "        [ 0.709,  0.142,  1.504,  0.072],\n",
            "        [-1.525, -0.803,  0.416, -0.208],\n",
            "        [-1.632,  1.962, -0.920,  1.776],\n",
            "        [-0.127,  0.074, -0.929, -1.052],\n",
            "        [ 1.051,  0.300, -1.431, -0.373],\n",
            "        [ 0.727,  0.980, -0.165, -2.916],\n",
            "        [ 0.985, -0.173, -1.157,  0.879],\n",
            "        [-0.715, -0.998, -1.289,  0.059],\n",
            "        [-0.080,  0.162,  0.767, -2.028],\n",
            "        [-0.700, -1.553,  1.978,  1.154],\n",
            "        [ 0.454, -0.696,  0.084,  0.525],\n",
            "        [-0.066, -0.249,  0.432,  2.036],\n",
            "        [-0.665, -0.330, -1.004, -0.195],\n",
            "        [-0.407,  0.177,  1.237,  0.014],\n",
            "        [-0.691, -1.656, -1.138,  0.534],\n",
            "        [ 1.033, -0.860,  1.225, -0.373],\n",
            "        [-0.696, -0.004,  0.368,  0.657],\n",
            "        [-0.122,  0.198,  1.876, -0.348],\n",
            "        [ 0.367, -0.213,  0.396, -2.432],\n",
            "        [-0.470,  0.230,  0.953, -0.475],\n",
            "        [ 0.768, -0.120,  0.342, -0.279],\n",
            "        [-0.584,  0.878,  2.222, -2.148],\n",
            "        [ 2.241,  1.057, -1.297, -0.909],\n",
            "        [-0.435, -1.037, -1.551, -0.266],\n",
            "        [ 1.792,  0.460, -0.164,  0.307],\n",
            "        [-0.680,  0.104, -0.161,  0.659],\n",
            "        [-0.635, -1.839, -0.733, -0.062],\n",
            "        [-0.374, -1.233, -2.670,  2.058],\n",
            "        [ 0.548, -1.785,  1.146,  0.870],\n",
            "        [ 0.412,  2.978,  1.634,  0.800],\n",
            "        [ 0.225,  1.468,  1.271, -2.931],\n",
            "        [ 0.050, -0.859, -2.676,  1.160],\n",
            "        [-2.123, -1.157, -1.255,  2.288],\n",
            "        [ 0.908,  0.785, -0.674,  0.787],\n",
            "        [ 0.337, -1.405, -0.583,  0.130],\n",
            "        [ 0.718,  1.060, -0.189,  2.206],\n",
            "        [ 0.477, -0.611,  0.621, -0.066],\n",
            "        [ 0.988,  1.598,  0.714, -0.592],\n",
            "        [-1.761,  1.703, -0.605, -0.625],\n",
            "        [-0.367, -0.420, -0.963,  0.122],\n",
            "        [ 0.146, -1.045,  0.054,  0.721],\n",
            "        [ 0.076,  1.150,  0.386,  1.702],\n",
            "        [-0.972, -2.904, -1.174,  1.031],\n",
            "        [ 1.495, -0.201,  1.861, -1.474],\n",
            "        [-0.801,  0.875,  0.755, -1.201],\n",
            "        [-0.163,  0.686,  0.405, -0.007],\n",
            "        [ 1.659,  0.467,  0.412, -0.553],\n",
            "        [-1.333,  0.663, -0.617, -0.425],\n",
            "        [ 0.165, -0.148, -2.721, -0.118],\n",
            "        [ 1.057, -1.800,  2.104, -0.169],\n",
            "        [-2.028, -0.175, -0.568, -0.066],\n",
            "        [-0.107,  0.729,  0.749,  1.381],\n",
            "        [ 1.017,  1.341, -0.341,  0.176],\n",
            "        [ 1.003,  0.173, -2.045, -1.428],\n",
            "        [-0.842, -0.305,  0.335, -0.767],\n",
            "        [ 1.228, -0.173,  1.139, -0.631],\n",
            "        [ 0.054,  0.439,  0.175, -0.437],\n",
            "        [ 0.912, -0.803,  2.207,  1.920],\n",
            "        [-0.607, -0.038, -0.447,  0.922],\n",
            "        [ 1.196,  0.478, -1.354, -0.994],\n",
            "        [-0.779,  0.473, -0.351, -0.078],\n",
            "        [-1.804,  0.175, -1.032,  1.235],\n",
            "        [ 0.652,  1.544,  0.976,  0.250],\n",
            "        [-0.748, -1.048, -2.091, -0.050],\n",
            "        [-0.704, -0.065,  0.708,  1.181],\n",
            "        [ 0.282,  3.055, -0.788,  0.254],\n",
            "        [-0.221,  0.467, -1.324,  0.125],\n",
            "        [ 1.014,  0.093,  1.282, -0.477],\n",
            "        [ 1.319,  1.171,  0.195, -0.209]]) \n",
            "\n"
          ]
        }
      ],
      "source": [
        "x_4_1 = dist.Normal(torch.zeros(1),\n",
        "                    torch.ones(1)).sample((100,4)).reshape((100, 4))\n",
        "prettyPrintAnswer(\"4.1\", x_4_1)"
      ]
    },
    {
      "cell_type": "markdown",
      "metadata": {
        "id": "JSEkrZWGlHdj"
      },
      "source": [
        "### Problem 4.2\n",
        "\n",
        "Use `dist.Normal` to draw a batch independent normal random variables with shape `(5,5)`, variance 1.0, and means\n",
        "\n",
        "```\n",
        "tensor([[ 0,  1,  2,  3,  4],\n",
        "        [ 5,  6,  8,  8,  9],\n",
        "        [10, 11, 12, 13, 15],\n",
        "        [15, 16, 17, 18, 19],\n",
        "        [20, 22, 22, 23, 24]])\n",
        "```"
      ]
    },
    {
      "cell_type": "code",
      "execution_count": 20,
      "metadata": {
        "id": "onXPXJKhlHdn",
        "colab": {
          "base_uri": "https://localhost:8080/",
          "height": 0
        },
        "outputId": "12e1f02e-b420-45f6-c324-4d112509c0bc"
      },
      "outputs": [
        {
          "output_type": "stream",
          "name": "stdout",
          "text": [
            "Problem 4.2 Tensor is: \n",
            " tensor([[-1.559,  0.337,  3.102,  2.788,  5.598],\n",
            "        [ 4.058,  4.133,  5.979,  6.125,  9.125],\n",
            "        [ 9.497,  8.467, 13.235, 13.220, 15.321],\n",
            "        [16.489, 16.146, 17.684, 18.016, 17.570],\n",
            "        [19.276, 20.506, 22.445, 23.762, 24.245]]) \n",
            "\n"
          ]
        }
      ],
      "source": [
        "means = torch.arange(25).reshape((5,5)).float()\n",
        "x_4_2 = dist.Normal(means, torch.tensor(1.0)).sample()\n",
        "prettyPrintAnswer(\"4.2\", x_4_2)"
      ]
    },
    {
      "cell_type": "markdown",
      "metadata": {
        "id": "pU0Mw02jlhfn"
      },
      "source": [
        "## 5. Debugging\n",
        "\n",
        "\"If debugging is the process of removing bugs, then programming must be the process of putting them in.\" -Edsger Dijkstra\n",
        "\n",
        "![\"How I got better at debugging\" by Julia Evans](https://wizardzines.com/images/uploads/better-at-debugging.png)\n",
        "\n",
        "Debugging is an important skill in applied statistics that we will hone in this class. The following exercises will introduce you to useful python debugging tools and techniques.\n",
        "\n",
        "![\"If you understand a bug, you can fix it\" by Julia Evans](https://wizardzines.com/images/uploads/understand-can-fix.png)\n",
        "\n",
        "In particular, we will focus on giving you some tools that let you more directly interrogate what is happening in a code snippet. Hopefully, learning how to understand what is going on in a given code snippet will replace feelingness of powerlessness when encountering an inscrutable bug with confidence, mastery, and knowledge.\n",
        "\n"
      ]
    },
    {
      "cell_type": "markdown",
      "metadata": {
        "id": "0sDF8uz8o8N_"
      },
      "source": [
        "### Problem 5.1: sleuthing with `type`, `shape`, and `dir`\n",
        "\n",
        "Many python bugs effectively arise from errors in grammar---trying to apply functions to objects in ways that don't make sense based on the type or shape of the object.\n",
        "\n",
        "For example, in English, you can't say: \"I enjoy to beautiful the park,\" because you have put an adjective (\"beautiful\") where a verb belongs. In a similar way, you can't evalaute the python expression `\"number:\" + 7`, because the `+` operator has different actions for strings and for ints.\n",
        "\n",
        "So, when you encounter an unfamiliar object in the course of writing python code, instead of throwing spaghetti at the wall and seeing what sticks, it can be helpful to get to know the object better, in particular by asking what its `type` and, if applicable, `shape` is, as well as what attributes it has. This approach is similar how you might get to know a new friend, by asking the name, where the person is from, what the person does---you would not start by randomly guessing different names for a new person!"
      ]
    },
    {
      "cell_type": "markdown",
      "metadata": {
        "id": "QFw2t_y4rRlO"
      },
      "source": [
        "#### Problem 5.1.1\n",
        "\n",
        "What is the type of `\"number:\"`? What is the type of `7`? What is the type of `A` from Problem 2.4?\n",
        "\n",
        "Use the `type` function explicitly to answer this question."
      ]
    },
    {
      "cell_type": "code",
      "execution_count": 21,
      "metadata": {
        "id": "lXQTMUD8rWIZ",
        "colab": {
          "base_uri": "https://localhost:8080/",
          "height": 0
        },
        "outputId": "4ddca97e-c081-4414-ce9f-49bffceeb6ab"
      },
      "outputs": [
        {
          "output_type": "stream",
          "name": "stdout",
          "text": [
            "Type of 'number:' is: <class 'str'>\n",
            "Type of 7 is: <class 'int'>\n",
            "Type of A is: <class 'torch.Tensor'>\n"
          ]
        }
      ],
      "source": [
        "num_str = \"number:\"\n",
        "seven_int = 7\n",
        "\n",
        "print(f\"Type of '{num_str}' is:\", type(num_str))\n",
        "print(f\"Type of {seven_int} is:\", type(seven_int))\n",
        "print(\"Type of A is:\", type(A))"
      ]
    },
    {
      "cell_type": "markdown",
      "metadata": {
        "id": "6aE31chFsGXs"
      },
      "source": [
        "#### Problem 5.1.2\n",
        "\n",
        "What are the shapes of `\"number:\"` and `7` and `A`? Can you give an intuitive reason why some types have shapes and other don't?\n",
        "\n",
        "Call `.shape` on the above objects explicitly to answer this question"
      ]
    },
    {
      "cell_type": "code",
      "source": [
        "print(f\"Shape of {num_str} is:\", num_str.shape)"
      ],
      "metadata": {
        "colab": {
          "base_uri": "https://localhost:8080/",
          "height": 179
        },
        "id": "Ii3EsAw60Lh4",
        "outputId": "f4d220a1-3a55-4bf1-b377-cf2f064b430c"
      },
      "execution_count": 22,
      "outputs": [
        {
          "output_type": "error",
          "ename": "AttributeError",
          "evalue": "'str' object has no attribute 'shape'",
          "traceback": [
            "\u001b[0;31m---------------------------------------------------------------------------\u001b[0m",
            "\u001b[0;31mAttributeError\u001b[0m                            Traceback (most recent call last)",
            "\u001b[0;32m<ipython-input-22-aa5a74edb4bd>\u001b[0m in \u001b[0;36m<cell line: 1>\u001b[0;34m()\u001b[0m\n\u001b[0;32m----> 1\u001b[0;31m \u001b[0mprint\u001b[0m\u001b[0;34m(\u001b[0m\u001b[0;34mf\"Shape of {num_str} is:\"\u001b[0m\u001b[0;34m,\u001b[0m \u001b[0mnum_str\u001b[0m\u001b[0;34m.\u001b[0m\u001b[0mshape\u001b[0m\u001b[0;34m)\u001b[0m\u001b[0;34m\u001b[0m\u001b[0;34m\u001b[0m\u001b[0m\n\u001b[0m",
            "\u001b[0;31mAttributeError\u001b[0m: 'str' object has no attribute 'shape'"
          ]
        }
      ]
    },
    {
      "cell_type": "code",
      "execution_count": 23,
      "metadata": {
        "id": "ZPk8Qq-stE9X",
        "colab": {
          "base_uri": "https://localhost:8080/",
          "height": 179
        },
        "outputId": "6ee6bc70-a808-47e1-8000-2c06c353d8cd"
      },
      "outputs": [
        {
          "output_type": "error",
          "ename": "AttributeError",
          "evalue": "'int' object has no attribute 'shape'",
          "traceback": [
            "\u001b[0;31m---------------------------------------------------------------------------\u001b[0m",
            "\u001b[0;31mAttributeError\u001b[0m                            Traceback (most recent call last)",
            "\u001b[0;32m<ipython-input-23-59992aea3ac6>\u001b[0m in \u001b[0;36m<cell line: 1>\u001b[0;34m()\u001b[0m\n\u001b[0;32m----> 1\u001b[0;31m \u001b[0mprint\u001b[0m\u001b[0;34m(\u001b[0m\u001b[0;34mf\"Shape of {seven_int} is:\"\u001b[0m\u001b[0;34m,\u001b[0m \u001b[0mseven_int\u001b[0m\u001b[0;34m.\u001b[0m\u001b[0mshape\u001b[0m\u001b[0;34m)\u001b[0m\u001b[0;34m\u001b[0m\u001b[0;34m\u001b[0m\u001b[0m\n\u001b[0m",
            "\u001b[0;31mAttributeError\u001b[0m: 'int' object has no attribute 'shape'"
          ]
        }
      ],
      "source": [
        "print(f\"Shape of {seven_int} is:\", seven_int.shape)"
      ]
    },
    {
      "cell_type": "code",
      "source": [
        "print(\"Shape of A is:\", A.shape)"
      ],
      "metadata": {
        "colab": {
          "base_uri": "https://localhost:8080/",
          "height": 0
        },
        "id": "rcG_8QdP0PJ9",
        "outputId": "8831531d-84bc-475a-f739-0b5baec6b1ae"
      },
      "execution_count": 24,
      "outputs": [
        {
          "output_type": "stream",
          "name": "stdout",
          "text": [
            "Shape of A is: torch.Size([5, 5])\n"
          ]
        }
      ]
    },
    {
      "cell_type": "markdown",
      "source": [
        "It makes sense for a tensor to have a shape but ints and strings don't have shapes since they don't have methods defined for shape. Strings and integers have different predefined methods in python but shape is a numpy and tensorflow method for numpy and tensorflow objects."
      ],
      "metadata": {
        "id": "iZ4y1Utb0ZSS"
      }
    },
    {
      "cell_type": "markdown",
      "metadata": {
        "id": "mxijsQ1KsnT8"
      },
      "source": [
        "#### Problem 5.1.3\n",
        "\n",
        "Call `dir` on the three objects\n",
        "* `\"number:`\n",
        "* `7`\n",
        "* `A`\n",
        "\n",
        "Describe what you notice. For each of the three objects, try out one of the methods that you get from calling `dir`. Does it have the behavior you would expect from the name? Describe why or why not."
      ]
    },
    {
      "cell_type": "code",
      "execution_count": 25,
      "metadata": {
        "id": "Veo1dU-lsvTu",
        "colab": {
          "base_uri": "https://localhost:8080/",
          "height": 73
        },
        "outputId": "4728201c-1028-4013-fd46-288c52972f86"
      },
      "outputs": [
        {
          "output_type": "stream",
          "name": "stdout",
          "text": [
            "dir of 'number:' is: ['__add__', '__class__', '__contains__', '__delattr__', '__dir__', '__doc__', '__eq__', '__format__', '__ge__', '__getattribute__', '__getitem__', '__getnewargs__', '__gt__', '__hash__', '__init__', '__init_subclass__', '__iter__', '__le__', '__len__', '__lt__', '__mod__', '__mul__', '__ne__', '__new__', '__reduce__', '__reduce_ex__', '__repr__', '__rmod__', '__rmul__', '__setattr__', '__sizeof__', '__str__', '__subclasshook__', 'capitalize', 'casefold', 'center', 'count', 'encode', 'endswith', 'expandtabs', 'find', 'format', 'format_map', 'index', 'isalnum', 'isalpha', 'isascii', 'isdecimal', 'isdigit', 'isidentifier', 'islower', 'isnumeric', 'isprintable', 'isspace', 'istitle', 'isupper', 'join', 'ljust', 'lower', 'lstrip', 'maketrans', 'partition', 'removeprefix', 'removesuffix', 'replace', 'rfind', 'rindex', 'rjust', 'rpartition', 'rsplit', 'rstrip', 'split', 'splitlines', 'startswith', 'strip', 'swapcase', 'title', 'translate', 'upper', 'zfill']\n"
          ]
        },
        {
          "output_type": "execute_result",
          "data": {
            "text/plain": [
              "'NUMBER:'"
            ],
            "application/vnd.google.colaboratory.intrinsic+json": {
              "type": "string"
            }
          },
          "metadata": {},
          "execution_count": 25
        }
      ],
      "source": [
        "print(f\"dir of '{num_str}' is:\", dir(num_str))\n",
        "num_str.upper()"
      ]
    },
    {
      "cell_type": "markdown",
      "source": [
        "Yes this is the behavior I expected. It made it all uppercase."
      ],
      "metadata": {
        "id": "HMCjbvnu4Mx6"
      }
    },
    {
      "cell_type": "code",
      "source": [
        "print(f\"dir of {seven_int} is:\", dir(seven_int))\n",
        "seven_int.denominator"
      ],
      "metadata": {
        "colab": {
          "base_uri": "https://localhost:8080/",
          "height": 0
        },
        "id": "PWiFLoM33RS7",
        "outputId": "0396e7da-b7c5-4db1-9141-abc0731f53b4"
      },
      "execution_count": 26,
      "outputs": [
        {
          "output_type": "stream",
          "name": "stdout",
          "text": [
            "dir of 7 is: ['__abs__', '__add__', '__and__', '__bool__', '__ceil__', '__class__', '__delattr__', '__dir__', '__divmod__', '__doc__', '__eq__', '__float__', '__floor__', '__floordiv__', '__format__', '__ge__', '__getattribute__', '__getnewargs__', '__gt__', '__hash__', '__index__', '__init__', '__init_subclass__', '__int__', '__invert__', '__le__', '__lshift__', '__lt__', '__mod__', '__mul__', '__ne__', '__neg__', '__new__', '__or__', '__pos__', '__pow__', '__radd__', '__rand__', '__rdivmod__', '__reduce__', '__reduce_ex__', '__repr__', '__rfloordiv__', '__rlshift__', '__rmod__', '__rmul__', '__ror__', '__round__', '__rpow__', '__rrshift__', '__rshift__', '__rsub__', '__rtruediv__', '__rxor__', '__setattr__', '__sizeof__', '__str__', '__sub__', '__subclasshook__', '__truediv__', '__trunc__', '__xor__', 'as_integer_ratio', 'bit_count', 'bit_length', 'conjugate', 'denominator', 'from_bytes', 'imag', 'numerator', 'real', 'to_bytes']\n"
          ]
        },
        {
          "output_type": "execute_result",
          "data": {
            "text/plain": [
              "1"
            ]
          },
          "metadata": {},
          "execution_count": 26
        }
      ]
    },
    {
      "cell_type": "markdown",
      "source": [
        "Yes this is the behavoir I expected. The denominator of an integer is 1."
      ],
      "metadata": {
        "id": "xk987wGy4Y_n"
      }
    },
    {
      "cell_type": "code",
      "source": [
        "print(\"dir of A is\", dir(A))\n",
        "A.sum()"
      ],
      "metadata": {
        "colab": {
          "base_uri": "https://localhost:8080/",
          "height": 0
        },
        "id": "1rtdSQnM4dWB",
        "outputId": "595775be-541e-4457-f55e-65230a34f7bb"
      },
      "execution_count": 27,
      "outputs": [
        {
          "output_type": "stream",
          "name": "stdout",
          "text": [
            "dir of A is ['H', 'T', '__abs__', '__add__', '__and__', '__array__', '__array_priority__', '__array_wrap__', '__bool__', '__class__', '__complex__', '__contains__', '__deepcopy__', '__delattr__', '__delitem__', '__dict__', '__dir__', '__div__', '__dlpack__', '__dlpack_device__', '__doc__', '__eq__', '__float__', '__floordiv__', '__format__', '__ge__', '__getattribute__', '__getitem__', '__gt__', '__hash__', '__iadd__', '__iand__', '__idiv__', '__ifloordiv__', '__ilshift__', '__imod__', '__imul__', '__index__', '__init__', '__init_subclass__', '__int__', '__invert__', '__ior__', '__ipow__', '__irshift__', '__isub__', '__iter__', '__itruediv__', '__ixor__', '__le__', '__len__', '__long__', '__lshift__', '__lt__', '__matmul__', '__mod__', '__module__', '__mul__', '__ne__', '__neg__', '__new__', '__nonzero__', '__or__', '__pos__', '__pow__', '__radd__', '__rand__', '__rdiv__', '__reduce__', '__reduce_ex__', '__repr__', '__reversed__', '__rfloordiv__', '__rlshift__', '__rmatmul__', '__rmod__', '__rmul__', '__ror__', '__rpow__', '__rrshift__', '__rshift__', '__rsub__', '__rtruediv__', '__rxor__', '__setattr__', '__setitem__', '__setstate__', '__sizeof__', '__str__', '__sub__', '__subclasshook__', '__torch_dispatch__', '__torch_function__', '__truediv__', '__weakref__', '__xor__', '_addmm_activation', '_autocast_to_full_precision', '_autocast_to_reduced_precision', '_backward_hooks', '_base', '_cdata', '_coalesced_', '_conj', '_conj_physical', '_dimI', '_dimV', '_fix_weakref', '_grad', '_grad_fn', '_has_symbolic_sizes_strides', '_indices', '_is_all_true', '_is_any_true', '_is_view', '_is_zerotensor', '_make_subclass', '_make_wrapper_subclass', '_neg_view', '_nested_tensor_size', '_nested_tensor_storage_offsets', '_nested_tensor_strides', '_nnz', '_post_accumulate_grad_hooks', '_python_dispatch', '_reduce_ex_internal', '_sparse_mask_projection', '_to_dense', '_to_sparse', '_to_sparse_bsc', '_to_sparse_bsr', '_to_sparse_csc', '_to_sparse_csr', '_typed_storage', '_update_names', '_values', '_version', '_view_func', 'abs', 'abs_', 'absolute', 'absolute_', 'acos', 'acos_', 'acosh', 'acosh_', 'add', 'add_', 'addbmm', 'addbmm_', 'addcdiv', 'addcdiv_', 'addcmul', 'addcmul_', 'addmm', 'addmm_', 'addmv', 'addmv_', 'addr', 'addr_', 'adjoint', 'align_as', 'align_to', 'all', 'allclose', 'amax', 'amin', 'aminmax', 'angle', 'any', 'apply_', 'arccos', 'arccos_', 'arccosh', 'arccosh_', 'arcsin', 'arcsin_', 'arcsinh', 'arcsinh_', 'arctan', 'arctan2', 'arctan2_', 'arctan_', 'arctanh', 'arctanh_', 'argmax', 'argmin', 'argsort', 'argwhere', 'as_strided', 'as_strided_', 'as_strided_scatter', 'as_subclass', 'asin', 'asin_', 'asinh', 'asinh_', 'atan', 'atan2', 'atan2_', 'atan_', 'atanh', 'atanh_', 'backward', 'baddbmm', 'baddbmm_', 'bernoulli', 'bernoulli_', 'bfloat16', 'bincount', 'bitwise_and', 'bitwise_and_', 'bitwise_left_shift', 'bitwise_left_shift_', 'bitwise_not', 'bitwise_not_', 'bitwise_or', 'bitwise_or_', 'bitwise_right_shift', 'bitwise_right_shift_', 'bitwise_xor', 'bitwise_xor_', 'bmm', 'bool', 'broadcast_to', 'byte', 'cauchy_', 'ccol_indices', 'cdouble', 'ceil', 'ceil_', 'cfloat', 'chalf', 'char', 'cholesky', 'cholesky_inverse', 'cholesky_solve', 'chunk', 'clamp', 'clamp_', 'clamp_max', 'clamp_max_', 'clamp_min', 'clamp_min_', 'clip', 'clip_', 'clone', 'coalesce', 'col_indices', 'conj', 'conj_physical', 'conj_physical_', 'contiguous', 'copy_', 'copysign', 'copysign_', 'corrcoef', 'cos', 'cos_', 'cosh', 'cosh_', 'count_nonzero', 'cov', 'cpu', 'cross', 'crow_indices', 'cuda', 'cummax', 'cummin', 'cumprod', 'cumprod_', 'cumsum', 'cumsum_', 'data', 'data_ptr', 'deg2rad', 'deg2rad_', 'dense_dim', 'dequantize', 'det', 'detach', 'detach_', 'device', 'diag', 'diag_embed', 'diagflat', 'diagonal', 'diagonal_scatter', 'diff', 'digamma', 'digamma_', 'dim', 'dim_order', 'dist', 'div', 'div_', 'divide', 'divide_', 'dot', 'double', 'dsplit', 'dtype', 'eig', 'element_size', 'eq', 'eq_', 'equal', 'erf', 'erf_', 'erfc', 'erfc_', 'erfinv', 'erfinv_', 'exp', 'exp2', 'exp2_', 'exp_', 'expand', 'expand_as', 'expm1', 'expm1_', 'exponential_', 'fill_', 'fill_diagonal_', 'fix', 'fix_', 'flatten', 'flip', 'fliplr', 'flipud', 'float', 'float_power', 'float_power_', 'floor', 'floor_', 'floor_divide', 'floor_divide_', 'fmax', 'fmin', 'fmod', 'fmod_', 'frac', 'frac_', 'frexp', 'gather', 'gcd', 'gcd_', 'ge', 'ge_', 'geometric_', 'geqrf', 'ger', 'get_device', 'grad', 'grad_fn', 'greater', 'greater_', 'greater_equal', 'greater_equal_', 'gt', 'gt_', 'half', 'hardshrink', 'has_names', 'heaviside', 'heaviside_', 'histc', 'histogram', 'hsplit', 'hypot', 'hypot_', 'i0', 'i0_', 'igamma', 'igamma_', 'igammac', 'igammac_', 'imag', 'index_add', 'index_add_', 'index_copy', 'index_copy_', 'index_fill', 'index_fill_', 'index_put', 'index_put_', 'index_reduce', 'index_reduce_', 'index_select', 'indices', 'inner', 'int', 'int_repr', 'inverse', 'ipu', 'is_coalesced', 'is_complex', 'is_conj', 'is_contiguous', 'is_cpu', 'is_cuda', 'is_distributed', 'is_floating_point', 'is_inference', 'is_ipu', 'is_leaf', 'is_meta', 'is_mkldnn', 'is_mps', 'is_neg', 'is_nested', 'is_nonzero', 'is_ort', 'is_pinned', 'is_quantized', 'is_same_size', 'is_set_to', 'is_shared', 'is_signed', 'is_sparse', 'is_sparse_csr', 'is_vulkan', 'is_xla', 'is_xpu', 'isclose', 'isfinite', 'isinf', 'isnan', 'isneginf', 'isposinf', 'isreal', 'istft', 'item', 'itemsize', 'kron', 'kthvalue', 'layout', 'lcm', 'lcm_', 'ldexp', 'ldexp_', 'le', 'le_', 'lerp', 'lerp_', 'less', 'less_', 'less_equal', 'less_equal_', 'lgamma', 'lgamma_', 'log', 'log10', 'log10_', 'log1p', 'log1p_', 'log2', 'log2_', 'log_', 'log_normal_', 'log_softmax', 'logaddexp', 'logaddexp2', 'logcumsumexp', 'logdet', 'logical_and', 'logical_and_', 'logical_not', 'logical_not_', 'logical_or', 'logical_or_', 'logical_xor', 'logical_xor_', 'logit', 'logit_', 'logsumexp', 'long', 'lstsq', 'lt', 'lt_', 'lu', 'lu_solve', 'mH', 'mT', 'map2_', 'map_', 'masked_fill', 'masked_fill_', 'masked_scatter', 'masked_scatter_', 'masked_select', 'matmul', 'matrix_exp', 'matrix_power', 'max', 'maximum', 'mean', 'median', 'min', 'minimum', 'mm', 'mode', 'moveaxis', 'movedim', 'msort', 'mul', 'mul_', 'multinomial', 'multiply', 'multiply_', 'mv', 'mvlgamma', 'mvlgamma_', 'name', 'names', 'nan_to_num', 'nan_to_num_', 'nanmean', 'nanmedian', 'nanquantile', 'nansum', 'narrow', 'narrow_copy', 'nbytes', 'ndim', 'ndimension', 'ne', 'ne_', 'neg', 'neg_', 'negative', 'negative_', 'nelement', 'new', 'new_empty', 'new_empty_strided', 'new_full', 'new_ones', 'new_tensor', 'new_zeros', 'nextafter', 'nextafter_', 'nonzero', 'nonzero_static', 'norm', 'normal_', 'not_equal', 'not_equal_', 'numel', 'numpy', 'orgqr', 'ormqr', 'outer', 'output_nr', 'permute', 'pin_memory', 'pinverse', 'polygamma', 'polygamma_', 'positive', 'pow', 'pow_', 'prelu', 'prod', 'put', 'put_', 'q_per_channel_axis', 'q_per_channel_scales', 'q_per_channel_zero_points', 'q_scale', 'q_zero_point', 'qr', 'qscheme', 'quantile', 'rad2deg', 'rad2deg_', 'random_', 'ravel', 'real', 'reciprocal', 'reciprocal_', 'record_stream', 'refine_names', 'register_hook', 'register_post_accumulate_grad_hook', 'reinforce', 'relu', 'relu_', 'remainder', 'remainder_', 'rename', 'rename_', 'renorm', 'renorm_', 'repeat', 'repeat_interleave', 'requires_grad', 'requires_grad_', 'reshape', 'reshape_as', 'resize', 'resize_', 'resize_as', 'resize_as_', 'resize_as_sparse_', 'resolve_conj', 'resolve_neg', 'retain_grad', 'retains_grad', 'roll', 'rot90', 'round', 'round_', 'row_indices', 'rsqrt', 'rsqrt_', 'scatter', 'scatter_', 'scatter_add', 'scatter_add_', 'scatter_reduce', 'scatter_reduce_', 'select', 'select_scatter', 'set_', 'sgn', 'sgn_', 'shape', 'share_memory_', 'short', 'sigmoid', 'sigmoid_', 'sign', 'sign_', 'signbit', 'sin', 'sin_', 'sinc', 'sinc_', 'sinh', 'sinh_', 'size', 'slice_scatter', 'slogdet', 'smm', 'softmax', 'solve', 'sort', 'sparse_dim', 'sparse_mask', 'sparse_resize_', 'sparse_resize_and_clear_', 'split', 'split_with_sizes', 'sqrt', 'sqrt_', 'square', 'square_', 'squeeze', 'squeeze_', 'sspaddmm', 'std', 'stft', 'storage', 'storage_offset', 'storage_type', 'stride', 'sub', 'sub_', 'subtract', 'subtract_', 'sum', 'sum_to_size', 'svd', 'swapaxes', 'swapaxes_', 'swapdims', 'swapdims_', 'symeig', 't', 't_', 'take', 'take_along_dim', 'tan', 'tan_', 'tanh', 'tanh_', 'tensor_split', 'tile', 'to', 'to_dense', 'to_mkldnn', 'to_padded_tensor', 'to_sparse', 'to_sparse_bsc', 'to_sparse_bsr', 'to_sparse_coo', 'to_sparse_csc', 'to_sparse_csr', 'tolist', 'topk', 'trace', 'transpose', 'transpose_', 'triangular_solve', 'tril', 'tril_', 'triu', 'triu_', 'true_divide', 'true_divide_', 'trunc', 'trunc_', 'type', 'type_as', 'unbind', 'unflatten', 'unfold', 'uniform_', 'unique', 'unique_consecutive', 'unsafe_chunk', 'unsafe_split', 'unsafe_split_with_sizes', 'unsqueeze', 'unsqueeze_', 'untyped_storage', 'values', 'var', 'vdot', 'view', 'view_as', 'vsplit', 'where', 'xlogy', 'xlogy_', 'xpu', 'zero_']\n"
          ]
        },
        {
          "output_type": "execute_result",
          "data": {
            "text/plain": [
              "tensor(300)"
            ]
          },
          "metadata": {},
          "execution_count": 27
        }
      ]
    },
    {
      "cell_type": "markdown",
      "source": [
        "Yes this is the behavior I expected. It gave the sum of the whole thing."
      ],
      "metadata": {
        "id": "fPaqwVv64zAv"
      }
    },
    {
      "cell_type": "markdown",
      "metadata": {
        "id": "qKBor21yorx8"
      },
      "source": [
        "### Problem 5.2: `pdb`\n"
      ]
    },
    {
      "cell_type": "markdown",
      "metadata": {
        "id": "dmip3nSARKtO"
      },
      "source": [
        "#### Problem 5.2.1: `%debug`\n",
        "\n",
        "The `%` denotes a magic command, which opens up commands that are not in standard python, but are added by [IPython](https://ipython.org/), which is short for \"Interactive Python\" and is the backbone of JuPyter notebooks and colabs.\n",
        "\n",
        "If you run a cell that returns an Error, in the very next cell you can just type `%debug` and then run the cell (Shft + Enter), and you open up a python debugger at the very point where the error was raised. Then, you can interactively investigate the values (as well as types and shapes) of the variables that were in and before the line that led to the crash. You can navigate through the debugger with these [commands](https://web.stanford.edu/class/physics91si/2013/handouts/Pdb_Commands.pdf)\n",
        "\n",
        "Try running the following code (which has a bug). When it errors out, run `%debug` in the next cell. In the `ipd>` console, find the shapes of both `tensor_a` and `tensor_b` by asking for their shape, and explain why the code does't work. Exit the debugger with `quit()`."
      ]
    },
    {
      "cell_type": "code",
      "execution_count": 31,
      "metadata": {
        "id": "IjSRNM0CoAyP",
        "colab": {
          "base_uri": "https://localhost:8080/",
          "height": 214
        },
        "outputId": "0b2d917d-c8c9-4991-8045-6a043ecdaffd"
      },
      "outputs": [
        {
          "output_type": "error",
          "ename": "RuntimeError",
          "evalue": "mat1 and mat2 shapes cannot be multiplied (2x2 and 3x2)",
          "traceback": [
            "\u001b[0;31m---------------------------------------------------------------------------\u001b[0m",
            "\u001b[0;31mRuntimeError\u001b[0m                              Traceback (most recent call last)",
            "\u001b[0;32m<ipython-input-31-0e8bd31d144a>\u001b[0m in \u001b[0;36m<cell line: 4>\u001b[0;34m()\u001b[0m\n\u001b[1;32m      2\u001b[0m \u001b[0mtensor_a\u001b[0m \u001b[0;34m=\u001b[0m \u001b[0mtorch\u001b[0m\u001b[0;34m.\u001b[0m\u001b[0mrandn\u001b[0m\u001b[0;34m(\u001b[0m\u001b[0;36m2\u001b[0m\u001b[0;34m,\u001b[0m \u001b[0;36m2\u001b[0m\u001b[0;34m)\u001b[0m\u001b[0;34m\u001b[0m\u001b[0;34m\u001b[0m\u001b[0m\n\u001b[1;32m      3\u001b[0m \u001b[0mtensor_b\u001b[0m \u001b[0;34m=\u001b[0m \u001b[0mtorch\u001b[0m\u001b[0;34m.\u001b[0m\u001b[0mrandn\u001b[0m\u001b[0;34m(\u001b[0m\u001b[0;36m3\u001b[0m\u001b[0;34m,\u001b[0m \u001b[0;36m2\u001b[0m\u001b[0;34m)\u001b[0m\u001b[0;34m\u001b[0m\u001b[0;34m\u001b[0m\u001b[0m\n\u001b[0;32m----> 4\u001b[0;31m \u001b[0mresult\u001b[0m \u001b[0;34m=\u001b[0m \u001b[0mtensor_a\u001b[0m \u001b[0;34m@\u001b[0m \u001b[0mtensor_b\u001b[0m\u001b[0;34m\u001b[0m\u001b[0;34m\u001b[0m\u001b[0m\n\u001b[0m",
            "\u001b[0;31mRuntimeError\u001b[0m: mat1 and mat2 shapes cannot be multiplied (2x2 and 3x2)"
          ]
        }
      ],
      "source": [
        "# BUGGY CODE\n",
        "tensor_a = torch.randn(2, 2)\n",
        "tensor_b = torch.randn(3, 2)\n",
        "result = tensor_a @ tensor_b"
      ]
    },
    {
      "cell_type": "code",
      "source": [
        "%debug"
      ],
      "metadata": {
        "colab": {
          "base_uri": "https://localhost:8080/",
          "height": 0
        },
        "id": "zG5kWyYTTXDs",
        "outputId": "48530380-697d-4e5d-d19d-002cb07da106"
      },
      "execution_count": 32,
      "outputs": [
        {
          "name": "stdout",
          "output_type": "stream",
          "text": [
            "> \u001b[0;32m<ipython-input-31-0e8bd31d144a>\u001b[0m(4)\u001b[0;36m<cell line: 4>\u001b[0;34m()\u001b[0m\n",
            "\u001b[0;32m      1 \u001b[0;31m\u001b[0;31m# BUGGY CODE\u001b[0m\u001b[0;34m\u001b[0m\u001b[0;34m\u001b[0m\u001b[0m\n",
            "\u001b[0m\u001b[0;32m      2 \u001b[0;31m\u001b[0mtensor_a\u001b[0m \u001b[0;34m=\u001b[0m \u001b[0mtorch\u001b[0m\u001b[0;34m.\u001b[0m\u001b[0mrandn\u001b[0m\u001b[0;34m(\u001b[0m\u001b[0;36m2\u001b[0m\u001b[0;34m,\u001b[0m \u001b[0;36m2\u001b[0m\u001b[0;34m)\u001b[0m\u001b[0;34m\u001b[0m\u001b[0;34m\u001b[0m\u001b[0m\n",
            "\u001b[0m\u001b[0;32m      3 \u001b[0;31m\u001b[0mtensor_b\u001b[0m \u001b[0;34m=\u001b[0m \u001b[0mtorch\u001b[0m\u001b[0;34m.\u001b[0m\u001b[0mrandn\u001b[0m\u001b[0;34m(\u001b[0m\u001b[0;36m3\u001b[0m\u001b[0;34m,\u001b[0m \u001b[0;36m2\u001b[0m\u001b[0;34m)\u001b[0m\u001b[0;34m\u001b[0m\u001b[0;34m\u001b[0m\u001b[0m\n",
            "\u001b[0m\u001b[0;32m----> 4 \u001b[0;31m\u001b[0mresult\u001b[0m \u001b[0;34m=\u001b[0m \u001b[0mtensor_a\u001b[0m \u001b[0;34m@\u001b[0m \u001b[0mtensor_b\u001b[0m\u001b[0;34m\u001b[0m\u001b[0;34m\u001b[0m\u001b[0m\n",
            "\u001b[0m\n",
            "ipdb> p tensor_a.shape\n",
            "torch.Size([2, 2])\n",
            "ipdb> p tensor_b.shape\n",
            "torch.Size([3, 2])\n",
            "ipdb> quit()\n"
          ]
        }
      ]
    },
    {
      "cell_type": "markdown",
      "source": [
        "The code isn't working because we are trying to multiply a 2x2 matrix with a 3x2 matrix. Since the columns of the first matrix need to match the rows of the second, this particular multiplication isn't defined."
      ],
      "metadata": {
        "id": "aB7q1hxdVmvo"
      }
    },
    {
      "cell_type": "markdown",
      "metadata": {
        "id": "7SwVdFX4RVJQ"
      },
      "source": [
        "#### Problem 5.2.2: `breakpoint()`\n",
        "\n",
        "Sometimes the bug can be more subtle, either not causing any error messages or having the bug be introduced many lines before the error is raised. In these situations, it can be helpful to add a `breakpoint()` to your code.\n",
        "\n",
        "**Add a `breakpoint()` anywhere to the code snippet in Problem 5.2.1, and confirm that you can still print types, shapes, and values, and navigate using `pdb` commands.**"
      ]
    },
    {
      "cell_type": "code",
      "source": [
        "# BUGGY CODE\n",
        "tensor_a = torch.randn(2, 2)\n",
        "tensor_b = torch.randn(3, 2)\n",
        "breakpoint()\n",
        "result = tensor_a @ tensor_b"
      ],
      "metadata": {
        "colab": {
          "base_uri": "https://localhost:8080/",
          "height": 0
        },
        "id": "LbBHxiXoWdqR",
        "outputId": "c0c1cb3b-690d-4e97-c89a-01d82fe259b5"
      },
      "execution_count": 34,
      "outputs": [
        {
          "name": "stdout",
          "output_type": "stream",
          "text": [
            "--Return--\n",
            "None\n",
            "> \u001b[0;32m<ipython-input-34-73e51b25b4c4>\u001b[0m(4)\u001b[0;36m<cell line: 4>\u001b[0;34m()\u001b[0m\n",
            "\u001b[0;32m      1 \u001b[0;31m\u001b[0;31m# BUGGY CODE\u001b[0m\u001b[0;34m\u001b[0m\u001b[0;34m\u001b[0m\u001b[0m\n",
            "\u001b[0m\u001b[0;32m      2 \u001b[0;31m\u001b[0mtensor_a\u001b[0m \u001b[0;34m=\u001b[0m \u001b[0mtorch\u001b[0m\u001b[0;34m.\u001b[0m\u001b[0mrandn\u001b[0m\u001b[0;34m(\u001b[0m\u001b[0;36m2\u001b[0m\u001b[0;34m,\u001b[0m \u001b[0;36m2\u001b[0m\u001b[0;34m)\u001b[0m\u001b[0;34m\u001b[0m\u001b[0;34m\u001b[0m\u001b[0m\n",
            "\u001b[0m\u001b[0;32m      3 \u001b[0;31m\u001b[0mtensor_b\u001b[0m \u001b[0;34m=\u001b[0m \u001b[0mtorch\u001b[0m\u001b[0;34m.\u001b[0m\u001b[0mrandn\u001b[0m\u001b[0;34m(\u001b[0m\u001b[0;36m3\u001b[0m\u001b[0;34m,\u001b[0m \u001b[0;36m2\u001b[0m\u001b[0;34m)\u001b[0m\u001b[0;34m\u001b[0m\u001b[0;34m\u001b[0m\u001b[0m\n",
            "\u001b[0m\u001b[0;32m----> 4 \u001b[0;31m\u001b[0mbreakpoint\u001b[0m\u001b[0;34m(\u001b[0m\u001b[0;34m)\u001b[0m\u001b[0;34m\u001b[0m\u001b[0;34m\u001b[0m\u001b[0m\n",
            "\u001b[0m\u001b[0;32m      5 \u001b[0;31m\u001b[0mresult\u001b[0m \u001b[0;34m=\u001b[0m \u001b[0mtensor_a\u001b[0m \u001b[0;34m@\u001b[0m \u001b[0mtensor_b\u001b[0m\u001b[0;34m\u001b[0m\u001b[0;34m\u001b[0m\u001b[0m\n",
            "\u001b[0m\n",
            "ipdb> p type(tensor_a)\n",
            "<class 'torch.Tensor'>\n",
            "ipdb> p tensor_a.shape\n",
            "torch.Size([2, 2])\n",
            "ipdb> p tensor_a\n",
            "tensor([[ 0.350,  1.570],\n",
            "        [-0.439, -1.574]])\n",
            "ipdb> p tensor_b\n",
            "tensor([[ 1.004, -0.881],\n",
            "        [-0.454, -0.280],\n",
            "        [-2.215,  0.891]])\n",
            "ipdb> quit()\n"
          ]
        }
      ]
    },
    {
      "cell_type": "markdown",
      "metadata": {
        "id": "3cXZXAc9BMJo"
      },
      "source": [
        "### Problem 5.3: Debugging Linear Regression\n",
        "\n",
        "Below is some buggy code for fitting linear regression on synthetic data that we will use to practice other debugging techniques"
      ]
    },
    {
      "cell_type": "code",
      "execution_count": 43,
      "metadata": {
        "id": "ARquDrQoCXl4",
        "colab": {
          "base_uri": "https://localhost:8080/",
          "height": 448
        },
        "outputId": "4258afbd-242b-4a95-c8a0-272c03ad6c82"
      },
      "outputs": [
        {
          "output_type": "stream",
          "name": "stderr",
          "text": [
            "100%|██████████| 100/100 [00:00<00:00, 792.90it/s]\n"
          ]
        },
        {
          "output_type": "display_data",
          "data": {
            "text/plain": [
              "<Figure size 640x480 with 1 Axes>"
            ],
            "image/png": "[encoded data removed]"
          },
          "metadata": {}
        }
      ],
      "source": [
        "#BUGGY CODE\n",
        "# generate synthetic data\n",
        "torch.manual_seed(305)\n",
        "n = 100_000\n",
        "p = 3\n",
        "X = torch.hstack([torch.ones((n,1)), torch.randn(n, p)])\n",
        "beta_true = torch.randn(p+1)\n",
        "y = X @ beta_true + torch.randn(n)\n",
        "\n",
        "# set up logistic regression\n",
        "loss_fn = torch.nn.MSELoss()\n",
        "beta_hat = torch.randn(p+1, requires_grad=True)\n",
        "\n",
        "learning_rate = 2.\n",
        "num_iterations = 100\n",
        "\n",
        "losses = []\n",
        "# Gradient Descent\n",
        "from tqdm import tqdm\n",
        "\n",
        "for i in tqdm(range(num_iterations)):\n",
        "    # Forward pass\n",
        "    y_pred = X @ beta_hat\n",
        "\n",
        "    # Compute and print loss\n",
        "    loss = loss_fn(y_pred, y)\n",
        "    losses.append(loss.item())\n",
        "\n",
        "    # Zero the gradients before running the backward pass\n",
        "    beta_hat.grad = None\n",
        "\n",
        "    # Backward pass\n",
        "    loss.backward()\n",
        "\n",
        "    # Update weights using gradient descent\n",
        "    with torch.no_grad():\n",
        "        beta_hat -= (learning_rate / (i+1)) * beta_hat.grad\n",
        "\n",
        "# The final parameters after training\n",
        "beta_final = beta_hat.detach()\n",
        "\n",
        "plt.plot(losses)\n",
        "\n",
        "assert torch.allclose(beta_true, beta_final, atol=1e-2), \\\n",
        "  f\"beta_true is {beta_true} while beta_final is {beta_final}\""
      ]
    },
    {
      "cell_type": "markdown",
      "metadata": {
        "id": "iqIDvCHeMeUv"
      },
      "source": [
        "#### Problem 5.3.1: `assert` and `torch.allclose`\n",
        "\n",
        "In the above code snippet, we would like to recover the true value `beta_true` of the linear regression coefficients in our final value `beta_final`. One way to check if two vectors are close each other is to use `torch.allclose`, which will return `True` if the two vectors have each corresponding element within `atol` of each other. One way to do this programatically is with an `assert`, which raises an error if the condition following it not true.\n",
        "\n",
        "**Edit the above code snippet by adding an assert which checks if `beta_true` and `beta_final` are within a margin of `1e-2` elementwise.**"
      ]
    },
    {
      "cell_type": "markdown",
      "metadata": {
        "id": "rjxDEJhUQYdn"
      },
      "source": [
        "#### Problem 5.3.2: f-strings\n",
        "\n",
        "It can be useful for debugging to print output, which can be done very cleanly using [f-strings](https://docs.python.org/3/tutorial/inputoutput.html) (the \"f\" stands for \"formatted\"). In particular, the second argument to an assert (after the boolean expression) can be a string that is printed if the boolean is `False`.\n",
        "\n",
        "**Modify your assert so that if `beta_true` and `beta_final` are not true, their values are printed with a descrption of what they are, using f-strings for easy comparison.**"
      ]
    },
    {
      "cell_type": "markdown",
      "metadata": {
        "id": "e3O5DUOdN5VM"
      },
      "source": [
        "#### Problem 5.3.3: plotting\n",
        "\n",
        "Use `matplotlib.pyplot`, which was imported in the very first cell as `plt`, to plot the lossess in the above code snippet. What do you notice about the losses? Does this clue you into the location of the bug? Fix the bug in the code snippet above."
      ]
    },
    {
      "cell_type": "markdown",
      "metadata": {
        "id": "O3ub34YLOmRU"
      },
      "source": [
        "#### Problem 5.3.4: progress bars\n",
        "\n",
        "It's extremely nice to know how long code is going to take to run. One easy way to add this is to wrap for loops (like in the above code snippet) with progress bars. Probably the easiest way to do this is with the `tqdm` package, which can be as as easy as:\n",
        "\n",
        "```\n",
        "from tqdm import tqdm\n",
        "\n",
        "for i in tqdm(range(10)):\n",
        "  print(i)\n",
        "```\n",
        "\n",
        "**Add a progress bar to the above code snippet.**"
      ]
    },
    {
      "cell_type": "markdown",
      "metadata": {
        "id": "28pxqQ2iPVOV"
      },
      "source": [
        "#### Problem 5.3.5: timing\n",
        "\n",
        "Often you want your code to run quickly when you are prototyping. How might you modify the above code snippet to run faster when you are just prototyping? Note that because you are \"prototyping,\" your \"quick-and-dirty\" solution doesn't need to satisfy the asserts you set up in Problem 5.3.1.\n",
        "\n",
        "But, **DO** confirm that your approach is faster by using `%%time`. Report your findings."
      ]
    },
    {
      "cell_type": "markdown",
      "metadata": {
        "id": "lyXoLDrcXr8w"
      },
      "source": [
        "TODO: your summary of your timing experiments"
      ]
    },
    {
      "cell_type": "code",
      "source": [
        "%%time\n",
        "\n",
        "for i in tqdm(range(num_iterations)):\n",
        "    # Forward pass\n",
        "    y_pred = X @ beta_hat\n",
        "\n",
        "    # Compute and print loss\n",
        "    loss = loss_fn(y_pred, y)\n",
        "    losses.append(loss.item())\n",
        "\n",
        "    # Zero the gradients before running the backward pass\n",
        "    beta_hat.grad = None\n",
        "\n",
        "    # Backward pass\n",
        "    loss.backward()\n",
        "\n",
        "    # Update weights using gradient descent\n",
        "    with torch.no_grad():\n",
        "        beta_hat -= (learning_rate / (i+1)) * beta_hat.grad\n",
        "\n",
        "# The final parameters after training\n",
        "beta_final = beta_hat.detach()"
      ],
      "metadata": {
        "colab": {
          "base_uri": "https://localhost:8080/",
          "height": 0
        },
        "id": "kVFR3xgMosDF",
        "outputId": "e63b3538-6db1-44aa-ccff-6b7c45beeaac"
      },
      "execution_count": 46,
      "outputs": [
        {
          "output_type": "stream",
          "name": "stderr",
          "text": [
            "100%|██████████| 100/100 [00:00<00:00, 817.09it/s]"
          ]
        },
        {
          "output_type": "stream",
          "name": "stdout",
          "text": [
            "CPU times: user 130 ms, sys: 0 ns, total: 130 ms\n",
            "Wall time: 130 ms\n"
          ]
        },
        {
          "output_type": "stream",
          "name": "stderr",
          "text": [
            "\n"
          ]
        }
      ]
    },
    {
      "cell_type": "code",
      "source": [
        "%%time\n",
        "beta_mult = torch.linalg.solve(X.t() @ X, X.t() @ y)\n",
        "\n",
        "assert torch.allclose(beta_true, beta_mult, atol=1e-2), \\\n",
        "  f\"beta_true is {beta_true} while beta_final is {beta_mult}\""
      ],
      "metadata": {
        "colab": {
          "base_uri": "https://localhost:8080/",
          "height": 0
        },
        "id": "8Glrbi9moumS",
        "outputId": "cf5a868e-cfdb-443f-bc9b-8aa30815007a"
      },
      "execution_count": 48,
      "outputs": [
        {
          "output_type": "stream",
          "name": "stdout",
          "text": [
            "CPU times: user 2.98 ms, sys: 0 ns, total: 2.98 ms\n",
            "Wall time: 2.85 ms\n"
          ]
        }
      ]
    },
    {
      "cell_type": "markdown",
      "source": [
        "Wow look at how much faster the exact projection of the $y$s onto $X\\beta$ space is! It took 130 ms for the iterative solution while the exact solution only too 2.85 ms!"
      ],
      "metadata": {
        "id": "I_hvu28OphUJ"
      }
    },
    {
      "cell_type": "markdown",
      "metadata": {
        "id": "mdpBT3XOtc79"
      },
      "source": [
        "## 6. More resources\n",
        "\n",
        "1. [CME 193: Introduction to Scientific Python](https://web.stanford.edu/class/cme193/)\n",
        "\n",
        "An excellent 1-unit introduction to Python. Meets Wednesdays 11:30-12:30 in winter quarter. Strongly recommend concurrent enrollment if you are new to python.\n",
        "\n",
        "2. [MIT's missing semester](https://missing.csail.mit.edu/)\n",
        "\n",
        "An excellent introduction to software tools. While not directly related to Stats 305B, the tools reviewed in this series will make you a more confident programmer."
      ]
    },
    {
      "cell_type": "markdown",
      "metadata": {
        "id": "1St9qRMLDcEu"
      },
      "source": [
        "## 7. Submission Instructions\n",
        "\n",
        "**Formatting:** check that your code does not exceed 80 characters in line width. You can set _Tools &rarr; Settings &rarr; Editor &rarr; Vertical ruler column_ to 80 to see when you've exceeded the limit.\n",
        "\n",
        "**Converting to PDF** The simplest way to convert to PDF is to use the \"Print to PDF\" option in your browser. Just make sure that your code and plots aren't cut off, as it may not wrap lines.\n",
        "\n",
        "**Alternatively** You can download your notebook in .ipynb format and use the following commands to convert it to PDF.  Then run the following command to convert to a PDF:\n",
        "```\n",
        "jupyter nbconvert --to pdf <yourlastname>_hw<number>.ipynb\n",
        "```\n",
        "(Note that for the above code to work, you need to rename your file `<yourlastname>_hw<number>.ipynb`)\n",
        "\n",
        "**Installing nbconvert:**\n",
        "\n",
        "If you're using Anaconda for package management,\n",
        "```\n",
        "conda install -c anaconda nbconvert\n",
        "```\n",
        "\n",
        "**Upload** your .pdf file to Gradescope. Please tag your questions correctly! I.E., for each question, all of and only the relevant sections are tagged.\n",
        "\n",
        "Please post on Ed or come to OH if there are any other problems submitting the HW."
      ]
    }
  ],
  "metadata": {
    "colab": {
      "provenance": [],
      "include_colab_link": true
    },
    "kernelspec": {
      "display_name": "Python 3 (ipykernel)",
      "language": "python",
      "name": "python3"
    },
    "language_info": {
      "codemirror_mode": {
        "name": "ipython",
        "version": 3
      },
      "file_extension": ".py",
      "mimetype": "text/x-python",
      "name": "python",
      "nbconvert_exporter": "python",
      "pygments_lexer": "ipython3",
      "version": "3.10.9"
    },
    "vscode": {
      "interpreter": {
        "hash": "5b28c5bd4ee93d765ebe901023d5522822fb8ad083dac3187c5545022f913719"
      }
    }
  },
  "nbformat": 4,
  "nbformat_minor": 0
}